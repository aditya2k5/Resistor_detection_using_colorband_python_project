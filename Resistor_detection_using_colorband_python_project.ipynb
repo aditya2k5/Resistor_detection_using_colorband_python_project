{
  "nbformat": 4,
  "nbformat_minor": 0,
  "metadata": {
    "colab": {
      "provenance": [],
      "authorship_tag": "ABX9TyOKmTX3/b1kwW/SCRB17Ohv",
      "include_colab_link": true
    },
    "kernelspec": {
      "name": "python3",
      "display_name": "Python 3"
    },
    "language_info": {
      "name": "python"
    }
  },
  "cells": [
    {
      "cell_type": "markdown",
      "metadata": {
        "id": "view-in-github",
        "colab_type": "text"
      },
      "source": [
        "<a href=\"https://colab.research.google.com/github/aditya2k5/Resistor_detection_using_colorband_python_project/blob/main/Resistor_detection_using_colorband_python_project.ipynb\" target=\"_parent\"><img src=\"https://colab.research.google.com/assets/colab-badge.svg\" alt=\"Open In Colab\"/></a>"
      ]
    },
    {
      "cell_type": "code",
      "execution_count": null,
      "metadata": {
        "id": "48FMLxUdXIBR"
      },
      "outputs": [],
      "source": [
        "color_codes = [\n",
        "    \"Black\", \"Brown\", \"Red\", \"Orange\", \"Yellow\", \"Green\", \"Blue\", \"Violet\", \"Gray\", \"White\"\n",
        "]\n",
        "\n",
        "def get_resistor_color_code(resistance):\n",
        "\n",
        "    resistance_str = str(resistance).zfill(2)\n",
        "\n",
        "    if len(resistance_str) > 12 or not resistance_str.isdigit():\n",
        "        return None\n",
        "\n",
        "    band1 = int(resistance_str[0])\n",
        "    band2 = int(resistance_str[1])\n",
        "    multiplier = len(resistance_str) - 2\n",
        "\n",
        "    if band1 >= len(color_codes) or band2 >= len(color_codes) or multiplier >= len(color_codes):\n",
        "        return None\n",
        "\n",
        "    return (color_codes[band1], color_codes[band2], color_codes[multiplier])\n",
        "\n",
        "def get_resistance_from_color_code(band1, band2, multiplier_band):\n",
        "\n",
        "\n",
        "        band1_value = color_codes.index(band1.capitalize())\n",
        "        band2_value = color_codes.index(band2.capitalize())\n",
        "        multiplier_value = color_codes.index(multiplier_band.capitalize())\n",
        "        resistance = (band1_value * 10 + band2_value) * (10 ** multiplier_value)\n",
        "        return resistance\n",
        "\n",
        "print(\"Select an option:\")\n",
        "print(\"1. Convert resistance value to color bands\")\n",
        "print(\"2. Convert color bands to resistance value\")\n",
        "choice = input(\"Enter your choice (1/2): \")\n",
        "\n",
        "if choice == \"1\":\n",
        "    resistance = input(\"Enter the resistance value (in ohms): \")\n",
        "    if resistance.isdigit():\n",
        "        resistance = int(resistance)\n",
        "        colors = get_resistor_color_code(resistance)\n",
        "        if colors:\n",
        "            print(f\"The color bands for {resistance} ohms are: {colors[0]}, {colors[1]}, {colors[2]}.\")\n",
        "        else:\n",
        "            print(\"Error: Resistance value is out of range for color coding.\")\n",
        "    else:\n",
        "        print(\"Error: Invalid input. Please enter a numeric resistance value.\")\n",
        "\n",
        "elif choice == \"2\":\n",
        "    band1 = input(\"Enter the first color band: \")\n",
        "    band2 = input(\"Enter the second color band: \")\n",
        "    multiplier_band = input(\"Enter the multiplier color band: \")\n",
        "\n",
        "    resistance = get_resistance_from_color_code(band1, band2, multiplier_band)\n",
        "    if resistance is not None:\n",
        "        print(\"The resistance value for the color bands\", band1, band2, multiplier_band ,\"is:\", resistance,\"ohms.\")\n",
        "    else:\n",
        "        print(\"Error: Invalid color bands entered.\")\n",
        "\n",
        "else:\n",
        "    print(\"Error: Invalid choice. Please select 1 or 2.\")\n",
        "\n",
        "print(None)\n"
      ]
    }
  ]
}